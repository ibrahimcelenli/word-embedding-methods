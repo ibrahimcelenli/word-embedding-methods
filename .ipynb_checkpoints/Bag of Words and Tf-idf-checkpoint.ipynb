{
 "cells": [
  {
   "cell_type": "markdown",
   "metadata": {},
   "source": [
    "# Bag of Words"
   ]
  },
  {
   "cell_type": "markdown",
   "metadata": {},
   "source": [
    "<img src=\"image/bagofwords.png\",width=400,height=400>"
   ]
  },
  {
   "cell_type": "code",
   "execution_count": 1,
   "metadata": {
    "collapsed": true
   },
   "outputs": [],
   "source": [
    "from sklearn.feature_extraction.text import CountVectorizer"
   ]
  },
  {
   "cell_type": "code",
   "execution_count": 2,
   "metadata": {
    "collapsed": true
   },
   "outputs": [],
   "source": [
    "docs = ['Merhaba arkadaşlar nasılsınız arkadaşlar',\n",
    "        'Arkadaşlar Deepcon18 atölye çalışmasına hoşgeldiniz',\n",
    "        'Bugün sizlerle birlikte arkadaşlar embedding yöntemlerini öğreneceğiz',\n",
    "        'Fakat önce biraz eski yöntemlere göz atalım']"
   ]
  },
  {
   "cell_type": "code",
   "execution_count": 3,
   "metadata": {},
   "outputs": [
    {
     "data": {
      "text/plain": [
       "['Merhaba arkadaşlar nasılsınız arkadaşlar',\n",
       " 'Arkadaşlar Deepcon18 atölye çalışmasına hoşgeldiniz',\n",
       " 'Bugun sizlerle birlikte arkadaşlar embedding yöntemlerini öğreneceğiz',\n",
       " 'Fakat önce biraz eski yöntemlere göz atalım']"
      ]
     },
     "execution_count": 3,
     "metadata": {},
     "output_type": "execute_result"
    }
   ],
   "source": [
    "docs"
   ]
  },
  {
   "cell_type": "code",
   "execution_count": 4,
   "metadata": {},
   "outputs": [
    {
     "data": {
      "text/plain": [
       "CountVectorizer(analyzer='word', binary=False, decode_error='strict',\n",
       "        dtype=<class 'numpy.int64'>, encoding='utf-8', input='content',\n",
       "        lowercase=True, max_df=1.0, max_features=None, min_df=1,\n",
       "        ngram_range=(1, 1), preprocessor=None, stop_words=None,\n",
       "        strip_accents=None, token_pattern='(?u)\\\\b\\\\w\\\\w+\\\\b',\n",
       "        tokenizer=None, vocabulary=None)"
      ]
     },
     "execution_count": 4,
     "metadata": {},
     "output_type": "execute_result"
    }
   ],
   "source": [
    "CountVectorizer()"
   ]
  },
  {
   "cell_type": "code",
   "execution_count": 5,
   "metadata": {
    "collapsed": true
   },
   "outputs": [],
   "source": [
    "bow_vector = CountVectorizer()\n",
    "bow_matrix = bow_vector.fit_transform(docs)"
   ]
  },
  {
   "cell_type": "code",
   "execution_count": 6,
   "metadata": {},
   "outputs": [
    {
     "data": {
      "text/plain": [
       "['arkadaşlar',\n",
       " 'atalım',\n",
       " 'atölye',\n",
       " 'biraz',\n",
       " 'birlikte',\n",
       " 'bugun',\n",
       " 'deepcon18',\n",
       " 'embedding',\n",
       " 'eski',\n",
       " 'fakat',\n",
       " 'göz',\n",
       " 'hoşgeldiniz',\n",
       " 'merhaba',\n",
       " 'nasılsınız',\n",
       " 'sizlerle',\n",
       " 'yöntemlere',\n",
       " 'yöntemlerini',\n",
       " 'çalışmasına',\n",
       " 'önce',\n",
       " 'öğreneceğiz']"
      ]
     },
     "execution_count": 6,
     "metadata": {},
     "output_type": "execute_result"
    }
   ],
   "source": [
    "bow_vector.get_feature_names()"
   ]
  },
  {
   "cell_type": "code",
   "execution_count": 7,
   "metadata": {},
   "outputs": [
    {
     "data": {
      "text/plain": [
       "20"
      ]
     },
     "execution_count": 7,
     "metadata": {},
     "output_type": "execute_result"
    }
   ],
   "source": [
    "len(bow_vector.get_feature_names())"
   ]
  },
  {
   "cell_type": "code",
   "execution_count": 8,
   "metadata": {},
   "outputs": [
    {
     "data": {
      "text/plain": [
       "array([[2, 0, 0, 0, 0, 0, 0, 0, 0, 0, 0, 0, 1, 1, 0, 0, 0, 0, 0, 0],\n",
       "       [1, 0, 1, 0, 0, 0, 1, 0, 0, 0, 0, 1, 0, 0, 0, 0, 0, 1, 0, 0],\n",
       "       [1, 0, 0, 0, 1, 1, 0, 1, 0, 0, 0, 0, 0, 0, 1, 0, 1, 0, 0, 1],\n",
       "       [0, 1, 0, 1, 0, 0, 0, 0, 1, 1, 1, 0, 0, 0, 0, 1, 0, 0, 1, 0]],\n",
       "      dtype=int64)"
      ]
     },
     "execution_count": 8,
     "metadata": {},
     "output_type": "execute_result"
    }
   ],
   "source": [
    "bow_matrix.toarray()"
   ]
  },
  {
   "cell_type": "code",
   "execution_count": 9,
   "metadata": {
    "collapsed": true
   },
   "outputs": [],
   "source": [
    "import pandas as pd\n",
    "bow_df = pd.DataFrame(bow_matrix.toarray(), columns = bow_vector.get_feature_names())\n"
   ]
  },
  {
   "cell_type": "code",
   "execution_count": 10,
   "metadata": {},
   "outputs": [
    {
     "data": {
      "text/plain": [
       "['Merhaba arkadaşlar nasılsınız arkadaşlar',\n",
       " 'Arkadaşlar Deepcon18 atölye çalışmasına hoşgeldiniz',\n",
       " 'Bugun sizlerle birlikte arkadaşlar embedding yöntemlerini öğreneceğiz',\n",
       " 'Fakat önce biraz eski yöntemlere göz atalım']"
      ]
     },
     "execution_count": 10,
     "metadata": {},
     "output_type": "execute_result"
    }
   ],
   "source": [
    "docs"
   ]
  },
  {
   "cell_type": "code",
   "execution_count": 11,
   "metadata": {
    "scrolled": true
   },
   "outputs": [
    {
     "data": {
      "text/html": [
       "<div>\n",
       "<style>\n",
       "    .dataframe thead tr:only-child th {\n",
       "        text-align: right;\n",
       "    }\n",
       "\n",
       "    .dataframe thead th {\n",
       "        text-align: left;\n",
       "    }\n",
       "\n",
       "    .dataframe tbody tr th {\n",
       "        vertical-align: top;\n",
       "    }\n",
       "</style>\n",
       "<table border=\"1\" class=\"dataframe\">\n",
       "  <thead>\n",
       "    <tr style=\"text-align: right;\">\n",
       "      <th></th>\n",
       "      <th>arkadaşlar</th>\n",
       "      <th>atalım</th>\n",
       "      <th>atölye</th>\n",
       "      <th>biraz</th>\n",
       "      <th>birlikte</th>\n",
       "      <th>bugun</th>\n",
       "      <th>deepcon18</th>\n",
       "      <th>embedding</th>\n",
       "      <th>eski</th>\n",
       "      <th>fakat</th>\n",
       "      <th>göz</th>\n",
       "      <th>hoşgeldiniz</th>\n",
       "      <th>merhaba</th>\n",
       "      <th>nasılsınız</th>\n",
       "      <th>sizlerle</th>\n",
       "      <th>yöntemlere</th>\n",
       "      <th>yöntemlerini</th>\n",
       "      <th>çalışmasına</th>\n",
       "      <th>önce</th>\n",
       "      <th>öğreneceğiz</th>\n",
       "    </tr>\n",
       "  </thead>\n",
       "  <tbody>\n",
       "    <tr>\n",
       "      <th>0</th>\n",
       "      <td>2</td>\n",
       "      <td>0</td>\n",
       "      <td>0</td>\n",
       "      <td>0</td>\n",
       "      <td>0</td>\n",
       "      <td>0</td>\n",
       "      <td>0</td>\n",
       "      <td>0</td>\n",
       "      <td>0</td>\n",
       "      <td>0</td>\n",
       "      <td>0</td>\n",
       "      <td>0</td>\n",
       "      <td>1</td>\n",
       "      <td>1</td>\n",
       "      <td>0</td>\n",
       "      <td>0</td>\n",
       "      <td>0</td>\n",
       "      <td>0</td>\n",
       "      <td>0</td>\n",
       "      <td>0</td>\n",
       "    </tr>\n",
       "    <tr>\n",
       "      <th>1</th>\n",
       "      <td>1</td>\n",
       "      <td>0</td>\n",
       "      <td>1</td>\n",
       "      <td>0</td>\n",
       "      <td>0</td>\n",
       "      <td>0</td>\n",
       "      <td>1</td>\n",
       "      <td>0</td>\n",
       "      <td>0</td>\n",
       "      <td>0</td>\n",
       "      <td>0</td>\n",
       "      <td>1</td>\n",
       "      <td>0</td>\n",
       "      <td>0</td>\n",
       "      <td>0</td>\n",
       "      <td>0</td>\n",
       "      <td>0</td>\n",
       "      <td>1</td>\n",
       "      <td>0</td>\n",
       "      <td>0</td>\n",
       "    </tr>\n",
       "    <tr>\n",
       "      <th>2</th>\n",
       "      <td>1</td>\n",
       "      <td>0</td>\n",
       "      <td>0</td>\n",
       "      <td>0</td>\n",
       "      <td>1</td>\n",
       "      <td>1</td>\n",
       "      <td>0</td>\n",
       "      <td>1</td>\n",
       "      <td>0</td>\n",
       "      <td>0</td>\n",
       "      <td>0</td>\n",
       "      <td>0</td>\n",
       "      <td>0</td>\n",
       "      <td>0</td>\n",
       "      <td>1</td>\n",
       "      <td>0</td>\n",
       "      <td>1</td>\n",
       "      <td>0</td>\n",
       "      <td>0</td>\n",
       "      <td>1</td>\n",
       "    </tr>\n",
       "    <tr>\n",
       "      <th>3</th>\n",
       "      <td>0</td>\n",
       "      <td>1</td>\n",
       "      <td>0</td>\n",
       "      <td>1</td>\n",
       "      <td>0</td>\n",
       "      <td>0</td>\n",
       "      <td>0</td>\n",
       "      <td>0</td>\n",
       "      <td>1</td>\n",
       "      <td>1</td>\n",
       "      <td>1</td>\n",
       "      <td>0</td>\n",
       "      <td>0</td>\n",
       "      <td>0</td>\n",
       "      <td>0</td>\n",
       "      <td>1</td>\n",
       "      <td>0</td>\n",
       "      <td>0</td>\n",
       "      <td>1</td>\n",
       "      <td>0</td>\n",
       "    </tr>\n",
       "  </tbody>\n",
       "</table>\n",
       "</div>"
      ],
      "text/plain": [
       "   arkadaşlar  atalım  atölye  biraz  birlikte  bugun  deepcon18  embedding  \\\n",
       "0           2       0       0      0         0      0          0          0   \n",
       "1           1       0       1      0         0      0          1          0   \n",
       "2           1       0       0      0         1      1          0          1   \n",
       "3           0       1       0      1         0      0          0          0   \n",
       "\n",
       "   eski  fakat  göz  hoşgeldiniz  merhaba  nasılsınız  sizlerle  yöntemlere  \\\n",
       "0     0      0    0            0        1           1         0           0   \n",
       "1     0      0    0            1        0           0         0           0   \n",
       "2     0      0    0            0        0           0         1           0   \n",
       "3     1      1    1            0        0           0         0           1   \n",
       "\n",
       "   yöntemlerini  çalışmasına  önce  öğreneceğiz  \n",
       "0             0            0     0            0  \n",
       "1             0            1     0            0  \n",
       "2             1            0     0            1  \n",
       "3             0            0     1            0  "
      ]
     },
     "execution_count": 11,
     "metadata": {},
     "output_type": "execute_result"
    }
   ],
   "source": [
    "bow_df"
   ]
  },
  {
   "cell_type": "markdown",
   "metadata": {},
   "source": [
    "# Tf-idf "
   ]
  },
  {
   "cell_type": "markdown",
   "metadata": {},
   "source": [
    "<img src=\"image/tfidf.png\",width=400,height=400>"
   ]
  },
  {
   "cell_type": "code",
   "execution_count": 12,
   "metadata": {
    "collapsed": true
   },
   "outputs": [],
   "source": [
    "from sklearn.feature_extraction.text import TfidfVectorizer\n",
    "import numpy as np"
   ]
  },
  {
   "cell_type": "code",
   "execution_count": 13,
   "metadata": {},
   "outputs": [
    {
     "data": {
      "text/plain": [
       "TfidfVectorizer(analyzer='word', binary=False, decode_error='strict',\n",
       "        dtype=<class 'numpy.int64'>, encoding='utf-8', input='content',\n",
       "        lowercase=True, max_df=1.0, max_features=None, min_df=1,\n",
       "        ngram_range=(1, 1), norm='l2', preprocessor=None, smooth_idf=True,\n",
       "        stop_words=None, strip_accents=None, sublinear_tf=False,\n",
       "        token_pattern='(?u)\\\\b\\\\w\\\\w+\\\\b', tokenizer=None, use_idf=True,\n",
       "        vocabulary=None)"
      ]
     },
     "execution_count": 13,
     "metadata": {},
     "output_type": "execute_result"
    }
   ],
   "source": [
    "TfidfVectorizer()"
   ]
  },
  {
   "cell_type": "code",
   "execution_count": 14,
   "metadata": {
    "collapsed": true
   },
   "outputs": [],
   "source": [
    "tfidf_vector = TfidfVectorizer()\n",
    "tfidf_matrix = tfidf_vector.fit_transform(docs)"
   ]
  },
  {
   "cell_type": "code",
   "execution_count": 15,
   "metadata": {},
   "outputs": [
    {
     "data": {
      "text/plain": [
       "array([[0.67006073, 0.        , 0.        , 0.        , 0.        ,\n",
       "        0.        , 0.        , 0.        , 0.        , 0.        ,\n",
       "        0.        , 0.        , 0.52488981, 0.52488981, 0.        ,\n",
       "        0.        , 0.        , 0.        , 0.        , 0.        ],\n",
       "       [0.30403549, 0.        , 0.47633035, 0.        , 0.        ,\n",
       "        0.        , 0.47633035, 0.        , 0.        , 0.        ,\n",
       "        0.        , 0.47633035, 0.        , 0.        , 0.        ,\n",
       "        0.        , 0.        , 0.47633035, 0.        , 0.        ],\n",
       "       [0.25215917, 0.        , 0.        , 0.        , 0.39505606,\n",
       "        0.39505606, 0.        , 0.39505606, 0.        , 0.        ,\n",
       "        0.        , 0.        , 0.        , 0.        , 0.39505606,\n",
       "        0.        , 0.39505606, 0.        , 0.        , 0.39505606],\n",
       "       [0.        , 0.37796447, 0.        , 0.37796447, 0.        ,\n",
       "        0.        , 0.        , 0.        , 0.37796447, 0.37796447,\n",
       "        0.37796447, 0.        , 0.        , 0.        , 0.        ,\n",
       "        0.37796447, 0.        , 0.        , 0.37796447, 0.        ]])"
      ]
     },
     "execution_count": 15,
     "metadata": {},
     "output_type": "execute_result"
    }
   ],
   "source": [
    "tfidf_matrix.toarray()\n"
   ]
  },
  {
   "cell_type": "code",
   "execution_count": 16,
   "metadata": {},
   "outputs": [
    {
     "data": {
      "text/plain": [
       "['arkadaşlar',\n",
       " 'atalım',\n",
       " 'atölye',\n",
       " 'biraz',\n",
       " 'birlikte',\n",
       " 'bugun',\n",
       " 'deepcon18',\n",
       " 'embedding',\n",
       " 'eski',\n",
       " 'fakat',\n",
       " 'göz',\n",
       " 'hoşgeldiniz',\n",
       " 'merhaba',\n",
       " 'nasılsınız',\n",
       " 'sizlerle',\n",
       " 'yöntemlere',\n",
       " 'yöntemlerini',\n",
       " 'çalışmasına',\n",
       " 'önce',\n",
       " 'öğreneceğiz']"
      ]
     },
     "execution_count": 16,
     "metadata": {},
     "output_type": "execute_result"
    }
   ],
   "source": [
    "tfidf_vector.get_feature_names()"
   ]
  },
  {
   "cell_type": "code",
   "execution_count": 17,
   "metadata": {
    "scrolled": true
   },
   "outputs": [
    {
     "data": {
      "text/html": [
       "<div>\n",
       "<style>\n",
       "    .dataframe thead tr:only-child th {\n",
       "        text-align: right;\n",
       "    }\n",
       "\n",
       "    .dataframe thead th {\n",
       "        text-align: left;\n",
       "    }\n",
       "\n",
       "    .dataframe tbody tr th {\n",
       "        vertical-align: top;\n",
       "    }\n",
       "</style>\n",
       "<table border=\"1\" class=\"dataframe\">\n",
       "  <thead>\n",
       "    <tr style=\"text-align: right;\">\n",
       "      <th></th>\n",
       "      <th>arkadaşlar</th>\n",
       "      <th>atalım</th>\n",
       "      <th>atölye</th>\n",
       "      <th>biraz</th>\n",
       "      <th>birlikte</th>\n",
       "      <th>bugun</th>\n",
       "      <th>deepcon18</th>\n",
       "      <th>embedding</th>\n",
       "      <th>eski</th>\n",
       "      <th>fakat</th>\n",
       "      <th>göz</th>\n",
       "      <th>hoşgeldiniz</th>\n",
       "      <th>merhaba</th>\n",
       "      <th>nasılsınız</th>\n",
       "      <th>sizlerle</th>\n",
       "      <th>yöntemlere</th>\n",
       "      <th>yöntemlerini</th>\n",
       "      <th>çalışmasına</th>\n",
       "      <th>önce</th>\n",
       "      <th>öğreneceğiz</th>\n",
       "    </tr>\n",
       "  </thead>\n",
       "  <tbody>\n",
       "    <tr>\n",
       "      <th>0</th>\n",
       "      <td>0.670</td>\n",
       "      <td>0.000</td>\n",
       "      <td>0.000</td>\n",
       "      <td>0.000</td>\n",
       "      <td>0.000</td>\n",
       "      <td>0.000</td>\n",
       "      <td>0.000</td>\n",
       "      <td>0.000</td>\n",
       "      <td>0.000</td>\n",
       "      <td>0.000</td>\n",
       "      <td>0.000</td>\n",
       "      <td>0.000</td>\n",
       "      <td>0.525</td>\n",
       "      <td>0.525</td>\n",
       "      <td>0.000</td>\n",
       "      <td>0.000</td>\n",
       "      <td>0.000</td>\n",
       "      <td>0.000</td>\n",
       "      <td>0.000</td>\n",
       "      <td>0.000</td>\n",
       "    </tr>\n",
       "    <tr>\n",
       "      <th>1</th>\n",
       "      <td>0.304</td>\n",
       "      <td>0.000</td>\n",
       "      <td>0.476</td>\n",
       "      <td>0.000</td>\n",
       "      <td>0.000</td>\n",
       "      <td>0.000</td>\n",
       "      <td>0.476</td>\n",
       "      <td>0.000</td>\n",
       "      <td>0.000</td>\n",
       "      <td>0.000</td>\n",
       "      <td>0.000</td>\n",
       "      <td>0.476</td>\n",
       "      <td>0.000</td>\n",
       "      <td>0.000</td>\n",
       "      <td>0.000</td>\n",
       "      <td>0.000</td>\n",
       "      <td>0.000</td>\n",
       "      <td>0.476</td>\n",
       "      <td>0.000</td>\n",
       "      <td>0.000</td>\n",
       "    </tr>\n",
       "    <tr>\n",
       "      <th>2</th>\n",
       "      <td>0.252</td>\n",
       "      <td>0.000</td>\n",
       "      <td>0.000</td>\n",
       "      <td>0.000</td>\n",
       "      <td>0.395</td>\n",
       "      <td>0.395</td>\n",
       "      <td>0.000</td>\n",
       "      <td>0.395</td>\n",
       "      <td>0.000</td>\n",
       "      <td>0.000</td>\n",
       "      <td>0.000</td>\n",
       "      <td>0.000</td>\n",
       "      <td>0.000</td>\n",
       "      <td>0.000</td>\n",
       "      <td>0.395</td>\n",
       "      <td>0.000</td>\n",
       "      <td>0.395</td>\n",
       "      <td>0.000</td>\n",
       "      <td>0.000</td>\n",
       "      <td>0.395</td>\n",
       "    </tr>\n",
       "    <tr>\n",
       "      <th>3</th>\n",
       "      <td>0.000</td>\n",
       "      <td>0.378</td>\n",
       "      <td>0.000</td>\n",
       "      <td>0.378</td>\n",
       "      <td>0.000</td>\n",
       "      <td>0.000</td>\n",
       "      <td>0.000</td>\n",
       "      <td>0.000</td>\n",
       "      <td>0.378</td>\n",
       "      <td>0.378</td>\n",
       "      <td>0.378</td>\n",
       "      <td>0.000</td>\n",
       "      <td>0.000</td>\n",
       "      <td>0.000</td>\n",
       "      <td>0.000</td>\n",
       "      <td>0.378</td>\n",
       "      <td>0.000</td>\n",
       "      <td>0.000</td>\n",
       "      <td>0.378</td>\n",
       "      <td>0.000</td>\n",
       "    </tr>\n",
       "  </tbody>\n",
       "</table>\n",
       "</div>"
      ],
      "text/plain": [
       "   arkadaşlar  atalım  atölye  biraz  birlikte  bugun  deepcon18  embedding  \\\n",
       "0       0.670   0.000   0.000  0.000     0.000  0.000      0.000      0.000   \n",
       "1       0.304   0.000   0.476  0.000     0.000  0.000      0.476      0.000   \n",
       "2       0.252   0.000   0.000  0.000     0.395  0.395      0.000      0.395   \n",
       "3       0.000   0.378   0.000  0.378     0.000  0.000      0.000      0.000   \n",
       "\n",
       "    eski  fakat    göz  hoşgeldiniz  merhaba  nasılsınız  sizlerle  \\\n",
       "0  0.000  0.000  0.000        0.000    0.525       0.525     0.000   \n",
       "1  0.000  0.000  0.000        0.476    0.000       0.000     0.000   \n",
       "2  0.000  0.000  0.000        0.000    0.000       0.000     0.395   \n",
       "3  0.378  0.378  0.378        0.000    0.000       0.000     0.000   \n",
       "\n",
       "   yöntemlere  yöntemlerini  çalışmasına   önce  öğreneceğiz  \n",
       "0       0.000         0.000        0.000  0.000        0.000  \n",
       "1       0.000         0.000        0.476  0.000        0.000  \n",
       "2       0.000         0.395        0.000  0.000        0.395  \n",
       "3       0.378         0.000        0.000  0.378        0.000  "
      ]
     },
     "execution_count": 17,
     "metadata": {},
     "output_type": "execute_result"
    }
   ],
   "source": [
    "pd.DataFrame(np.round(tfidf_matrix.toarray(),3), columns = tfidf_vector.get_feature_names())"
   ]
  },
  {
   "cell_type": "markdown",
   "metadata": {},
   "source": [
    "reference : https://medium.com/deep-learning-turkiye/metin-i%CC%87%C5%9Fleme-1-eski-tarz-y%C3%B6ntemler-bag-of-words-ve-tfxidf-76d5a0cf1b29"
   ]
  }
 ],
 "metadata": {
  "kernelspec": {
   "display_name": "Python 3",
   "language": "python",
   "name": "python3"
  },
  "language_info": {
   "codemirror_mode": {
    "name": "ipython",
    "version": 3
   },
   "file_extension": ".py",
   "mimetype": "text/x-python",
   "name": "python",
   "nbconvert_exporter": "python",
   "pygments_lexer": "ipython3",
   "version": "3.6.4"
  }
 },
 "nbformat": 4,
 "nbformat_minor": 2
}
